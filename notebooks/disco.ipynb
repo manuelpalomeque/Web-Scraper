{
  "nbformat": 4,
  "nbformat_minor": 0,
  "metadata": {
    "colab": {
      "provenance": []
    },
    "kernelspec": {
      "name": "python3",
      "display_name": "Python 3"
    },
    "language_info": {
      "name": "python"
    }
  },
  "cells": [
    {
      "cell_type": "markdown",
      "source": [
        "# Para este proyecto, busco extraer los datos del producto y del precio del mismo de la pagina web de Disco:\n",
        "https://www.disco.com.ar/"
      ],
      "metadata": {
        "id": "1tRdQlITCFM9"
      }
    },
    {
      "cell_type": "markdown",
      "source": [
        "## 00 - Instalar librerias necesarias:\n",
        "\n",
        "* Scrapy: para definir \"arañas\" (spiders) que navegan por sitios web y extraen información estructurad\n",
        "* Datetime: para definir fecha y hora"
      ],
      "metadata": {
        "id": "wYtgTZgQ4_MW"
      }
    },
    {
      "cell_type": "code",
      "execution_count": 2,
      "metadata": {
        "id": "EYESpnoWBgSc",
        "colab": {
          "base_uri": "https://localhost:8080/"
        },
        "outputId": "c519029f-dab4-49be-bc00-0e110f6db64c"
      },
      "outputs": [
        {
          "output_type": "stream",
          "name": "stdout",
          "text": [
            "Collecting scrapy\n",
            "  Downloading Scrapy-2.12.0-py2.py3-none-any.whl.metadata (5.3 kB)\n",
            "Collecting Twisted>=21.7.0 (from scrapy)\n",
            "  Downloading twisted-24.11.0-py3-none-any.whl.metadata (20 kB)\n",
            "Requirement already satisfied: cryptography>=37.0.0 in /usr/local/lib/python3.11/dist-packages (from scrapy) (43.0.3)\n",
            "Collecting cssselect>=0.9.1 (from scrapy)\n",
            "  Downloading cssselect-1.3.0-py3-none-any.whl.metadata (2.6 kB)\n",
            "Collecting itemloaders>=1.0.1 (from scrapy)\n",
            "  Downloading itemloaders-1.3.2-py3-none-any.whl.metadata (3.9 kB)\n",
            "Collecting parsel>=1.5.0 (from scrapy)\n",
            "  Downloading parsel-1.10.0-py2.py3-none-any.whl.metadata (11 kB)\n",
            "Requirement already satisfied: pyOpenSSL>=22.0.0 in /usr/local/lib/python3.11/dist-packages (from scrapy) (24.2.1)\n",
            "Collecting queuelib>=1.4.2 (from scrapy)\n",
            "  Downloading queuelib-1.8.0-py3-none-any.whl.metadata (6.1 kB)\n",
            "Collecting service-identity>=18.1.0 (from scrapy)\n",
            "  Downloading service_identity-24.2.0-py3-none-any.whl.metadata (5.1 kB)\n",
            "Collecting w3lib>=1.17.0 (from scrapy)\n",
            "  Downloading w3lib-2.3.1-py3-none-any.whl.metadata (2.3 kB)\n",
            "Requirement already satisfied: zope.interface>=5.1.0 in /usr/local/lib/python3.11/dist-packages (from scrapy) (7.2)\n",
            "Collecting protego>=0.1.15 (from scrapy)\n",
            "  Downloading Protego-0.4.0-py2.py3-none-any.whl.metadata (6.2 kB)\n",
            "Collecting itemadapter>=0.1.0 (from scrapy)\n",
            "  Downloading itemadapter-0.11.0-py3-none-any.whl.metadata (18 kB)\n",
            "Requirement already satisfied: packaging in /usr/local/lib/python3.11/dist-packages (from scrapy) (24.2)\n",
            "Collecting tldextract (from scrapy)\n",
            "  Downloading tldextract-5.2.0-py3-none-any.whl.metadata (11 kB)\n",
            "Requirement already satisfied: lxml>=4.6.0 in /usr/local/lib/python3.11/dist-packages (from scrapy) (5.3.1)\n",
            "Requirement already satisfied: defusedxml>=0.7.1 in /usr/local/lib/python3.11/dist-packages (from scrapy) (0.7.1)\n",
            "Collecting PyDispatcher>=2.0.5 (from scrapy)\n",
            "  Downloading PyDispatcher-2.0.7-py3-none-any.whl.metadata (2.4 kB)\n",
            "Requirement already satisfied: cffi>=1.12 in /usr/local/lib/python3.11/dist-packages (from cryptography>=37.0.0->scrapy) (1.17.1)\n",
            "Collecting jmespath>=0.9.5 (from itemloaders>=1.0.1->scrapy)\n",
            "  Downloading jmespath-1.0.1-py3-none-any.whl.metadata (7.6 kB)\n",
            "Requirement already satisfied: attrs>=19.1.0 in /usr/local/lib/python3.11/dist-packages (from service-identity>=18.1.0->scrapy) (25.3.0)\n",
            "Requirement already satisfied: pyasn1 in /usr/local/lib/python3.11/dist-packages (from service-identity>=18.1.0->scrapy) (0.6.1)\n",
            "Requirement already satisfied: pyasn1-modules in /usr/local/lib/python3.11/dist-packages (from service-identity>=18.1.0->scrapy) (0.4.2)\n",
            "Collecting automat>=24.8.0 (from Twisted>=21.7.0->scrapy)\n",
            "  Downloading Automat-24.8.1-py3-none-any.whl.metadata (8.4 kB)\n",
            "Collecting constantly>=15.1 (from Twisted>=21.7.0->scrapy)\n",
            "  Downloading constantly-23.10.4-py3-none-any.whl.metadata (1.8 kB)\n",
            "Collecting hyperlink>=17.1.1 (from Twisted>=21.7.0->scrapy)\n",
            "  Downloading hyperlink-21.0.0-py2.py3-none-any.whl.metadata (1.5 kB)\n",
            "Collecting incremental>=24.7.0 (from Twisted>=21.7.0->scrapy)\n",
            "  Downloading incremental-24.7.2-py3-none-any.whl.metadata (8.1 kB)\n",
            "Requirement already satisfied: typing-extensions>=4.2.0 in /usr/local/lib/python3.11/dist-packages (from Twisted>=21.7.0->scrapy) (4.13.1)\n",
            "Requirement already satisfied: setuptools in /usr/local/lib/python3.11/dist-packages (from zope.interface>=5.1.0->scrapy) (75.2.0)\n",
            "Requirement already satisfied: idna in /usr/local/lib/python3.11/dist-packages (from tldextract->scrapy) (3.10)\n",
            "Requirement already satisfied: requests>=2.1.0 in /usr/local/lib/python3.11/dist-packages (from tldextract->scrapy) (2.32.3)\n",
            "Collecting requests-file>=1.4 (from tldextract->scrapy)\n",
            "  Downloading requests_file-2.1.0-py2.py3-none-any.whl.metadata (1.7 kB)\n",
            "Requirement already satisfied: filelock>=3.0.8 in /usr/local/lib/python3.11/dist-packages (from tldextract->scrapy) (3.18.0)\n",
            "Requirement already satisfied: pycparser in /usr/local/lib/python3.11/dist-packages (from cffi>=1.12->cryptography>=37.0.0->scrapy) (2.22)\n",
            "Requirement already satisfied: charset-normalizer<4,>=2 in /usr/local/lib/python3.11/dist-packages (from requests>=2.1.0->tldextract->scrapy) (3.4.1)\n",
            "Requirement already satisfied: urllib3<3,>=1.21.1 in /usr/local/lib/python3.11/dist-packages (from requests>=2.1.0->tldextract->scrapy) (2.3.0)\n",
            "Requirement already satisfied: certifi>=2017.4.17 in /usr/local/lib/python3.11/dist-packages (from requests>=2.1.0->tldextract->scrapy) (2025.1.31)\n",
            "Downloading Scrapy-2.12.0-py2.py3-none-any.whl (311 kB)\n",
            "\u001b[2K   \u001b[90m━━━━━━━━━━━━━━━━━━━━━━━━━━━━━━━━━━━━━━━━\u001b[0m \u001b[32m311.2/311.2 kB\u001b[0m \u001b[31m10.8 MB/s\u001b[0m eta \u001b[36m0:00:00\u001b[0m\n",
            "\u001b[?25hDownloading cssselect-1.3.0-py3-none-any.whl (18 kB)\n",
            "Downloading itemadapter-0.11.0-py3-none-any.whl (11 kB)\n",
            "Downloading itemloaders-1.3.2-py3-none-any.whl (12 kB)\n",
            "Downloading parsel-1.10.0-py2.py3-none-any.whl (17 kB)\n",
            "Downloading Protego-0.4.0-py2.py3-none-any.whl (8.6 kB)\n",
            "Downloading PyDispatcher-2.0.7-py3-none-any.whl (12 kB)\n",
            "Downloading queuelib-1.8.0-py3-none-any.whl (13 kB)\n",
            "Downloading service_identity-24.2.0-py3-none-any.whl (11 kB)\n",
            "Downloading twisted-24.11.0-py3-none-any.whl (3.2 MB)\n",
            "\u001b[2K   \u001b[90m━━━━━━━━━━━━━━━━━━━━━━━━━━━━━━━━━━━━━━━━\u001b[0m \u001b[32m3.2/3.2 MB\u001b[0m \u001b[31m54.7 MB/s\u001b[0m eta \u001b[36m0:00:00\u001b[0m\n",
            "\u001b[?25hDownloading w3lib-2.3.1-py3-none-any.whl (21 kB)\n",
            "Downloading tldextract-5.2.0-py3-none-any.whl (106 kB)\n",
            "\u001b[2K   \u001b[90m━━━━━━━━━━━━━━━━━━━━━━━━━━━━━━━━━━━━━━━━\u001b[0m \u001b[32m106.3/106.3 kB\u001b[0m \u001b[31m7.8 MB/s\u001b[0m eta \u001b[36m0:00:00\u001b[0m\n",
            "\u001b[?25hDownloading Automat-24.8.1-py3-none-any.whl (42 kB)\n",
            "\u001b[2K   \u001b[90m━━━━━━━━━━━━━━━━━━━━━━━━━━━━━━━━━━━━━━━━\u001b[0m \u001b[32m42.6/42.6 kB\u001b[0m \u001b[31m2.9 MB/s\u001b[0m eta \u001b[36m0:00:00\u001b[0m\n",
            "\u001b[?25hDownloading constantly-23.10.4-py3-none-any.whl (13 kB)\n",
            "Downloading hyperlink-21.0.0-py2.py3-none-any.whl (74 kB)\n",
            "\u001b[2K   \u001b[90m━━━━━━━━━━━━━━━━━━━━━━━━━━━━━━━━━━━━━━━━\u001b[0m \u001b[32m74.6/74.6 kB\u001b[0m \u001b[31m4.6 MB/s\u001b[0m eta \u001b[36m0:00:00\u001b[0m\n",
            "\u001b[?25hDownloading incremental-24.7.2-py3-none-any.whl (20 kB)\n",
            "Downloading jmespath-1.0.1-py3-none-any.whl (20 kB)\n",
            "Downloading requests_file-2.1.0-py2.py3-none-any.whl (4.2 kB)\n",
            "Installing collected packages: PyDispatcher, w3lib, queuelib, protego, jmespath, itemadapter, incremental, hyperlink, cssselect, constantly, automat, Twisted, requests-file, parsel, tldextract, service-identity, itemloaders, scrapy\n",
            "Successfully installed PyDispatcher-2.0.7 Twisted-24.11.0 automat-24.8.1 constantly-23.10.4 cssselect-1.3.0 hyperlink-21.0.0 incremental-24.7.2 itemadapter-0.11.0 itemloaders-1.3.2 jmespath-1.0.1 parsel-1.10.0 protego-0.4.0 queuelib-1.8.0 requests-file-2.1.0 scrapy-2.12.0 service-identity-24.2.0 tldextract-5.2.0 w3lib-2.3.1\n",
            "Requirement already satisfied: datetime in /usr/local/lib/python3.11/dist-packages (5.5)\n",
            "Requirement already satisfied: zope.interface in /usr/local/lib/python3.11/dist-packages (from datetime) (7.2)\n",
            "Requirement already satisfied: pytz in /usr/local/lib/python3.11/dist-packages (from datetime) (2025.2)\n",
            "Requirement already satisfied: setuptools in /usr/local/lib/python3.11/dist-packages (from zope.interface->datetime) (75.2.0)\n"
          ]
        }
      ],
      "source": [
        "## 00 - Instalar librerias:\n",
        "!pip install scrapy\n",
        "!pip install datetime"
      ]
    },
    {
      "cell_type": "markdown",
      "source": [
        "## 01 -  Importar las librerias necesarias:\n",
        "\n",
        "* scrapy: para seleccionar elementos HTML con selectores CSS\n",
        "* datetime: para manejar las fechas y horas\n",
        "* pytz: para trabajar con zonas horarias\n",
        "* google.colab.files: para subir o descargar archivos desde colab a la computadora"
      ],
      "metadata": {
        "id": "Is6jsfvl5MRk"
      }
    },
    {
      "cell_type": "code",
      "source": [
        "import scrapy\n",
        "from datetime import datetime\n",
        "import pytz\n",
        "from google.colab import files"
      ],
      "metadata": {
        "id": "UCMAJrJ55NuG"
      },
      "execution_count": 3,
      "outputs": []
    },
    {
      "cell_type": "markdown",
      "source": [
        "## 02 -  Desarrollar y guardar el script en el archivo disco.py\n",
        "\n",
        "Se define la araña web y una lista de URLs que corresponden a productos del supermercado Disco. Asi mismo, se define la funcion parse, que procesa cada pagina."
      ],
      "metadata": {
        "id": "pVYjcveY5h2c"
      }
    },
    {
      "cell_type": "markdown",
      "source": [
        "Usare la etiqueta meta [property=\"product:price:amount\"] para extraer el precio\n",
        "\n",
        "![image.png](data:image/png;base64,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)"
      ],
      "metadata": {
        "id": "AF8pZ4xKAh1a"
      }
    },
    {
      "cell_type": "code",
      "source": [
        "%%writefile disco.py\n",
        "\n",
        "# 01 importo las librerias necesarias\n",
        "import scrapy\n",
        "from scrapy.cmdline import execute\n",
        "from datetime import datetime\n",
        "import pytz\n",
        "\n",
        "# 02 Configuro la fecha actual\n",
        "zona_arg = pytz.timezone('America/Argentina/Buenos_Aires')\n",
        "\n",
        "hora = datetime.now(zona_arg).time()\n",
        "fecha = datetime.now().today()\n",
        "\n",
        "# 03 Formato correcto para la fecha y hora\n",
        "fHoraMinuto = \"%H:%M\"\n",
        "fDiaMesAño = \"%d-%m-%Y\"\n",
        "\n",
        "horaActual = hora.strftime(fHoraMinuto)\n",
        "fechaActual = fecha.strftime(fDiaMesAño)\n",
        "\n",
        "# 04 Configuro la araña:\n",
        "class ProductosSpider(scrapy.Spider):\n",
        "  name = 'Canasta'\n",
        "  start_urls = [\n",
        "      \"https://www.disco.com.ar/galletitas-de-agua-criollitas-originales-300-gr/p\",\n",
        "      \"https://www.disco.com.ar/galletitas-surtido-bagley-400-gr-2/p\",\n",
        "      \"https://www.disco.com.ar/arroz-grano-largo-fino-dos-hermanos-1-kg/p\",\n",
        "      \"https://www.disco.com.ar/harina-000-vit-x-1-kg-favorita/p\",\n",
        "      \"https://www.disco.com.ar/papa-cepillada-granel-por-kg/p\",\n",
        "      \"https://www.disco.com.ar/batata-por-kg/p\",\n",
        "      \"https://www.disco.com.ar/azucar-ledesma-x-1kg/p\",\n",
        "      \"https://www.disco.com.ar/dulce-de-leche-la-serenisima-clasico-400g-2/p\",\n",
        "      \"https://www.disco.com.ar/cebolla-superior-por-kg/p\",\n",
        "      \"https://www.disco.com.ar/manzana-roja-por-kg-2/p\",\n",
        "      \"https://www.disco.com.ar/pollo-fresco-con-menudos-2/p\",\n",
        "      \"https://www.disco.com.ar/salame-milan-campo-austral-feteado-x-150-gr/p\",\n",
        "      \"https://www.disco.com.ar/huevos-color-6-un-maxima-mp-2/p\",\n",
        "      \"https://www.disco.com.ar/leche-entera-la-serenisima-3sachet-1lt/p\",\n",
        "      \"https://www.disco.com.ar/queso-crema-casancrem-clasico-290-gr/p\",\n",
        "      \"https://www.disco.com.ar/yogur-bebible-entero-la-serenisima-vainilla-900-gr/p\",\n",
        "      \"https://www.disco.com.ar/manteca-la-serenisima-100-gr/p\",\n",
        "      \"https://www.disco.com.ar/aceite-de-girasol-natura-1-5-l/p\",\n",
        "      \"https://www.disco.com.ar/gaseosa-coca-cola-sabor-original-2-25-l/p\",\n",
        "      \"https://www.disco.com.ar/cerveza-quilmes-stout-1lt/p\",\n",
        "      \"https://www.disco.com.ar/sal-fina-celusal-500-gr/p\",\n",
        "      \"https://www.disco.com.ar/vinagre-de-vino-cuisine-and-co-500-ml/p\",\n",
        "      \"https://www.disco.com.ar/cafe-molido-cabrales-250-gr/p\",\n",
        "      \"https://www.disco.com.ar/yerba-mate-sin-tacc-chamigo-1-kg/p\",\n",
        "      \"https://www.disco.com.ar/aderezo-mayonesa-natura-237-gr/p\"\n",
        "  ]\n",
        "\n",
        "# 05 Configuro la funcion Parse:\n",
        "  def parse(self, response):\n",
        "    nombre_producto = response.css('span.vtex-store-components-3-x-productBrand::text').get()\n",
        "    precio_web = response.css('meta[property=\"product:price:amount\"]::attr(content)').get()\n",
        "\n",
        "    if precio_web:\n",
        "      precio = precio_web\n",
        "    else:\n",
        "      precio = \"No disponible\"\n",
        "\n",
        "    yield {\n",
        "        \"fecha\" : fechaActual,\n",
        "        \"hora\" : horaActual,\n",
        "        \"Nombre Producto\": nombre_producto,\n",
        "        \"Precio\" : precio,\n",
        "        \"URL\" : response.url\n",
        "    }"
      ],
      "metadata": {
        "colab": {
          "base_uri": "https://localhost:8080/"
        },
        "id": "tuHEzxcz5nzF",
        "outputId": "fb8c266b-11dd-4f84-d412-49ecdcb4e117"
      },
      "execution_count": 19,
      "outputs": [
        {
          "output_type": "stream",
          "name": "stdout",
          "text": [
            "Overwriting disco.py\n"
          ]
        }
      ]
    },
    {
      "cell_type": "markdown",
      "source": [
        "## 03 - Ejecutar el scrapper\n",
        "Se ejecuta el scraper en el archivo hiper_libertad.py y guarda los resultados en un archivo CSV, llamado relevamiento_precios_hiper_libertad.csv."
      ],
      "metadata": {
        "id": "O2zNhYe69nyO"
      }
    },
    {
      "cell_type": "code",
      "source": [
        "# Ejecutar:\n",
        "!scrapy runspider disco.py -o relevamiento_precios_disco.csv"
      ],
      "metadata": {
        "colab": {
          "base_uri": "https://localhost:8080/"
        },
        "id": "drrAHAeO9pxs",
        "outputId": "33f4e18b-e173-49fd-d8a1-3d733c8a589f"
      },
      "execution_count": 20,
      "outputs": [
        {
          "output_type": "stream",
          "name": "stdout",
          "text": [
            "2025-04-13 16:38:57 [scrapy.utils.log] INFO: Scrapy 2.12.0 started (bot: scrapybot)\n",
            "2025-04-13 16:38:57 [scrapy.utils.log] INFO: Versions: lxml 5.3.1.0, libxml2 2.12.9, cssselect 1.3.0, parsel 1.10.0, w3lib 2.3.1, Twisted 24.11.0, Python 3.11.12 (main, Apr  9 2025, 08:55:54) [GCC 11.4.0], pyOpenSSL 24.2.1 (OpenSSL 3.3.2 3 Sep 2024), cryptography 43.0.3, Platform Linux-6.1.85+-x86_64-with-glibc2.35\n",
            "2025-04-13 16:38:57 [scrapy.addons] INFO: Enabled addons:\n",
            "[]\n",
            "2025-04-13 16:38:57 [scrapy.utils.log] DEBUG: Using reactor: twisted.internet.epollreactor.EPollReactor\n",
            "2025-04-13 16:38:57 [scrapy.extensions.telnet] INFO: Telnet Password: fbaedba7c87e44fe\n",
            "2025-04-13 16:38:57 [scrapy.middleware] INFO: Enabled extensions:\n",
            "['scrapy.extensions.corestats.CoreStats',\n",
            " 'scrapy.extensions.telnet.TelnetConsole',\n",
            " 'scrapy.extensions.memusage.MemoryUsage',\n",
            " 'scrapy.extensions.feedexport.FeedExporter',\n",
            " 'scrapy.extensions.logstats.LogStats']\n",
            "2025-04-13 16:38:57 [scrapy.crawler] INFO: Overridden settings:\n",
            "{'SPIDER_LOADER_WARN_ONLY': True}\n",
            "2025-04-13 16:38:58 [scrapy.middleware] INFO: Enabled downloader middlewares:\n",
            "['scrapy.downloadermiddlewares.offsite.OffsiteMiddleware',\n",
            " 'scrapy.downloadermiddlewares.httpauth.HttpAuthMiddleware',\n",
            " 'scrapy.downloadermiddlewares.downloadtimeout.DownloadTimeoutMiddleware',\n",
            " 'scrapy.downloadermiddlewares.defaultheaders.DefaultHeadersMiddleware',\n",
            " 'scrapy.downloadermiddlewares.useragent.UserAgentMiddleware',\n",
            " 'scrapy.downloadermiddlewares.retry.RetryMiddleware',\n",
            " 'scrapy.downloadermiddlewares.redirect.MetaRefreshMiddleware',\n",
            " 'scrapy.downloadermiddlewares.httpcompression.HttpCompressionMiddleware',\n",
            " 'scrapy.downloadermiddlewares.redirect.RedirectMiddleware',\n",
            " 'scrapy.downloadermiddlewares.cookies.CookiesMiddleware',\n",
            " 'scrapy.downloadermiddlewares.httpproxy.HttpProxyMiddleware',\n",
            " 'scrapy.downloadermiddlewares.stats.DownloaderStats']\n",
            "2025-04-13 16:38:58 [scrapy.middleware] INFO: Enabled spider middlewares:\n",
            "['scrapy.spidermiddlewares.httperror.HttpErrorMiddleware',\n",
            " 'scrapy.spidermiddlewares.referer.RefererMiddleware',\n",
            " 'scrapy.spidermiddlewares.urllength.UrlLengthMiddleware',\n",
            " 'scrapy.spidermiddlewares.depth.DepthMiddleware']\n",
            "2025-04-13 16:38:58 [scrapy.middleware] INFO: Enabled item pipelines:\n",
            "[]\n",
            "2025-04-13 16:38:58 [scrapy.core.engine] INFO: Spider opened\n",
            "2025-04-13 16:38:58 [scrapy.extensions.logstats] INFO: Crawled 0 pages (at 0 pages/min), scraped 0 items (at 0 items/min)\n",
            "2025-04-13 16:38:58 [scrapy.extensions.telnet] INFO: Telnet console listening on 127.0.0.1:6023\n",
            "2025-04-13 16:38:58 [scrapy.core.engine] DEBUG: Crawled (200) <GET https://www.disco.com.ar/dulce-de-leche-la-serenisima-clasico-400g-2/p> (referer: None)\n",
            "2025-04-13 16:38:58 [scrapy.core.engine] DEBUG: Crawled (200) <GET https://www.disco.com.ar/batata-por-kg/p> (referer: None)\n",
            "2025-04-13 16:38:58 [scrapy.core.engine] DEBUG: Crawled (200) <GET https://www.disco.com.ar/cebolla-superior-por-kg/p> (referer: None)\n",
            "2025-04-13 16:38:58 [scrapy.core.engine] DEBUG: Crawled (200) <GET https://www.disco.com.ar/manzana-roja-por-kg-2/p> (referer: None)\n",
            "2025-04-13 16:38:58 [scrapy.core.engine] DEBUG: Crawled (200) <GET https://www.disco.com.ar/galletitas-de-agua-criollitas-originales-300-gr/p> (referer: None)\n",
            "2025-04-13 16:38:58 [scrapy.core.engine] DEBUG: Crawled (200) <GET https://www.disco.com.ar/azucar-ledesma-x-1kg/p> (referer: None)\n",
            "2025-04-13 16:38:58 [scrapy.core.scraper] DEBUG: Scraped from <200 https://www.disco.com.ar/dulce-de-leche-la-serenisima-clasico-400g-2/p>\n",
            "{'fecha': '13-04-2025', 'hora': '13:38', 'Nombre Producto': 'Dulce De Leche La Serenisima Clasico 400g', 'Precio': '3300', 'URL': 'https://www.disco.com.ar/dulce-de-leche-la-serenisima-clasico-400g-2/p'}\n",
            "2025-04-13 16:38:58 [scrapy.core.engine] DEBUG: Crawled (200) <GET https://www.disco.com.ar/pollo-fresco-con-menudos-2/p> (referer: None)\n",
            "2025-04-13 16:38:58 [scrapy.core.engine] DEBUG: Crawled (200) <GET https://www.disco.com.ar/salame-milan-campo-austral-feteado-x-150-gr/p> (referer: None)\n",
            "2025-04-13 16:38:58 [scrapy.core.scraper] DEBUG: Scraped from <200 https://www.disco.com.ar/batata-por-kg/p>\n",
            "{'fecha': '13-04-2025', 'hora': '13:38', 'Nombre Producto': 'Batata  Por Kg', 'Precio': '1099', 'URL': 'https://www.disco.com.ar/batata-por-kg/p'}\n",
            "2025-04-13 16:38:58 [scrapy.core.scraper] DEBUG: Scraped from <200 https://www.disco.com.ar/cebolla-superior-por-kg/p>\n",
            "{'fecha': '13-04-2025', 'hora': '13:38', 'Nombre Producto': 'Cebolla Superior Por Kg', 'Precio': 'No disponible', 'URL': 'https://www.disco.com.ar/cebolla-superior-por-kg/p'}\n",
            "2025-04-13 16:38:58 [scrapy.core.scraper] DEBUG: Scraped from <200 https://www.disco.com.ar/manzana-roja-por-kg-2/p>\n",
            "{'fecha': '13-04-2025', 'hora': '13:38', 'Nombre Producto': 'Manzana Roja Por Kg', 'Precio': 'No disponible', 'URL': 'https://www.disco.com.ar/manzana-roja-por-kg-2/p'}\n",
            "2025-04-13 16:38:58 [scrapy.core.engine] DEBUG: Crawled (200) <GET https://www.disco.com.ar/huevos-color-6-un-maxima-mp-2/p> (referer: None)\n",
            "2025-04-13 16:38:58 [scrapy.core.engine] DEBUG: Crawled (200) <GET https://www.disco.com.ar/leche-entera-la-serenisima-3sachet-1lt/p> (referer: None)\n",
            "2025-04-13 16:38:58 [scrapy.core.engine] DEBUG: Crawled (200) <GET https://www.disco.com.ar/galletitas-surtido-bagley-400-gr-2/p> (referer: None)\n",
            "2025-04-13 16:38:58 [scrapy.core.scraper] DEBUG: Scraped from <200 https://www.disco.com.ar/galletitas-de-agua-criollitas-originales-300-gr/p>\n",
            "{'fecha': '13-04-2025', 'hora': '13:38', 'Nombre Producto': 'Galletitas De Agua Criollitas Originales 300 Gr', 'Precio': '1523', 'URL': 'https://www.disco.com.ar/galletitas-de-agua-criollitas-originales-300-gr/p'}\n",
            "2025-04-13 16:38:58 [scrapy.core.scraper] DEBUG: Scraped from <200 https://www.disco.com.ar/azucar-ledesma-x-1kg/p>\n",
            "{'fecha': '13-04-2025', 'hora': '13:38', 'Nombre Producto': 'Azucar Ledesma X 1kg', 'Precio': '1130', 'URL': 'https://www.disco.com.ar/azucar-ledesma-x-1kg/p'}\n",
            "2025-04-13 16:38:58 [scrapy.core.scraper] DEBUG: Scraped from <200 https://www.disco.com.ar/pollo-fresco-con-menudos-2/p>\n",
            "{'fecha': '13-04-2025', 'hora': '13:38', 'Nombre Producto': 'Pollo Fresco Con Menudos', 'Precio': '3399', 'URL': 'https://www.disco.com.ar/pollo-fresco-con-menudos-2/p'}\n",
            "2025-04-13 16:38:58 [scrapy.core.scraper] DEBUG: Scraped from <200 https://www.disco.com.ar/salame-milan-campo-austral-feteado-x-150-gr/p>\n",
            "{'fecha': '13-04-2025', 'hora': '13:38', 'Nombre Producto': 'Salame Milán Campo Austral Feteado X 150 Gr', 'Precio': '6376', 'URL': 'https://www.disco.com.ar/salame-milan-campo-austral-feteado-x-150-gr/p'}\n",
            "2025-04-13 16:38:58 [scrapy.core.engine] DEBUG: Crawled (200) <GET https://www.disco.com.ar/harina-000-vit-x-1-kg-favorita/p> (referer: None)\n",
            "2025-04-13 16:38:58 [scrapy.core.engine] DEBUG: Crawled (200) <GET https://www.disco.com.ar/queso-crema-casancrem-clasico-290-gr/p> (referer: None)\n",
            "2025-04-13 16:38:58 [scrapy.core.engine] DEBUG: Crawled (200) <GET https://www.disco.com.ar/papa-cepillada-granel-por-kg/p> (referer: None)\n",
            "2025-04-13 16:38:58 [scrapy.core.scraper] DEBUG: Scraped from <200 https://www.disco.com.ar/huevos-color-6-un-maxima-mp-2/p>\n",
            "{'fecha': '13-04-2025', 'hora': '13:38', 'Nombre Producto': 'Huevos Color 6 Un Maxima Mp', 'Precio': '2450', 'URL': 'https://www.disco.com.ar/huevos-color-6-un-maxima-mp-2/p'}\n",
            "2025-04-13 16:38:58 [scrapy.core.scraper] DEBUG: Scraped from <200 https://www.disco.com.ar/leche-entera-la-serenisima-3sachet-1lt/p>\n",
            "{'fecha': '13-04-2025', 'hora': '13:38', 'Nombre Producto': 'Leche Entera La Serenísima 3sachet 1lt', 'Precio': '1850', 'URL': 'https://www.disco.com.ar/leche-entera-la-serenisima-3sachet-1lt/p'}\n",
            "2025-04-13 16:38:59 [scrapy.core.engine] DEBUG: Crawled (200) <GET https://www.disco.com.ar/yogur-bebible-entero-la-serenisima-vainilla-900-gr/p> (referer: None)\n",
            "2025-04-13 16:38:59 [scrapy.core.scraper] DEBUG: Scraped from <200 https://www.disco.com.ar/galletitas-surtido-bagley-400-gr-2/p>\n",
            "{'fecha': '13-04-2025', 'hora': '13:38', 'Nombre Producto': 'Galletitas Surtido Bagley 400 Gr', 'Precio': '2117', 'URL': 'https://www.disco.com.ar/galletitas-surtido-bagley-400-gr-2/p'}\n",
            "2025-04-13 16:38:59 [scrapy.core.engine] DEBUG: Crawled (200) <GET https://www.disco.com.ar/manteca-la-serenisima-100-gr/p> (referer: None)\n",
            "2025-04-13 16:38:59 [scrapy.core.engine] DEBUG: Crawled (200) <GET https://www.disco.com.ar/aceite-de-girasol-natura-1-5-l/p> (referer: None)\n",
            "2025-04-13 16:38:59 [scrapy.core.scraper] DEBUG: Scraped from <200 https://www.disco.com.ar/harina-000-vit-x-1-kg-favorita/p>\n",
            "{'fecha': '13-04-2025', 'hora': '13:38', 'Nombre Producto': 'Harina 000 Vit X 1 Kg Favorita', 'Precio': '900', 'URL': 'https://www.disco.com.ar/harina-000-vit-x-1-kg-favorita/p'}\n",
            "2025-04-13 16:38:59 [scrapy.core.scraper] DEBUG: Scraped from <200 https://www.disco.com.ar/queso-crema-casancrem-clasico-290-gr/p>\n",
            "{'fecha': '13-04-2025', 'hora': '13:38', 'Nombre Producto': 'Queso Crema Casancrem Clásico 290 Gr', 'Precio': '4750', 'URL': 'https://www.disco.com.ar/queso-crema-casancrem-clasico-290-gr/p'}\n",
            "2025-04-13 16:38:59 [scrapy.core.scraper] DEBUG: Scraped from <200 https://www.disco.com.ar/papa-cepillada-granel-por-kg/p>\n",
            "{'fecha': '13-04-2025', 'hora': '13:38', 'Nombre Producto': 'Papa Cepillada Granel Por Kg', 'Precio': '999', 'URL': 'https://www.disco.com.ar/papa-cepillada-granel-por-kg/p'}\n",
            "2025-04-13 16:38:59 [scrapy.core.engine] DEBUG: Crawled (200) <GET https://www.disco.com.ar/arroz-grano-largo-fino-dos-hermanos-1-kg/p> (referer: None)\n",
            "2025-04-13 16:38:59 [scrapy.core.scraper] DEBUG: Scraped from <200 https://www.disco.com.ar/yogur-bebible-entero-la-serenisima-vainilla-900-gr/p>\n",
            "{'fecha': '13-04-2025', 'hora': '13:38', 'Nombre Producto': 'Yogur Bebible Entero La Serenísima Vainilla 900 Gr', 'Precio': '3450', 'URL': 'https://www.disco.com.ar/yogur-bebible-entero-la-serenisima-vainilla-900-gr/p'}\n",
            "2025-04-13 16:38:59 [scrapy.core.scraper] DEBUG: Scraped from <200 https://www.disco.com.ar/manteca-la-serenisima-100-gr/p>\n",
            "{'fecha': '13-04-2025', 'hora': '13:38', 'Nombre Producto': 'Manteca La Serenisima 100 Gr', 'Precio': '2200', 'URL': 'https://www.disco.com.ar/manteca-la-serenisima-100-gr/p'}\n",
            "2025-04-13 16:38:59 [scrapy.core.scraper] DEBUG: Scraped from <200 https://www.disco.com.ar/aceite-de-girasol-natura-1-5-l/p>\n",
            "{'fecha': '13-04-2025', 'hora': '13:38', 'Nombre Producto': 'Aceite De Girasol Natura 1.5 L', 'Precio': '4213', 'URL': 'https://www.disco.com.ar/aceite-de-girasol-natura-1-5-l/p'}\n",
            "2025-04-13 16:38:59 [scrapy.core.scraper] DEBUG: Scraped from <200 https://www.disco.com.ar/arroz-grano-largo-fino-dos-hermanos-1-kg/p>\n",
            "{'fecha': '13-04-2025', 'hora': '13:38', 'Nombre Producto': 'Arroz Grano Largo Fino Dos Hermanos 1 Kg', 'Precio': '2300', 'URL': 'https://www.disco.com.ar/arroz-grano-largo-fino-dos-hermanos-1-kg/p'}\n",
            "2025-04-13 16:38:59 [scrapy.core.engine] DEBUG: Crawled (200) <GET https://www.disco.com.ar/sal-fina-celusal-500-gr/p> (referer: None)\n",
            "2025-04-13 16:38:59 [scrapy.core.engine] DEBUG: Crawled (200) <GET https://www.disco.com.ar/gaseosa-coca-cola-sabor-original-2-25-l/p> (referer: None)\n",
            "2025-04-13 16:38:59 [scrapy.core.engine] DEBUG: Crawled (200) <GET https://www.disco.com.ar/cafe-molido-cabrales-250-gr/p> (referer: None)\n",
            "2025-04-13 16:38:59 [scrapy.core.engine] DEBUG: Crawled (200) <GET https://www.disco.com.ar/yerba-mate-sin-tacc-chamigo-1-kg/p> (referer: None)\n",
            "2025-04-13 16:38:59 [scrapy.core.engine] DEBUG: Crawled (200) <GET https://www.disco.com.ar/aderezo-mayonesa-natura-237-gr/p> (referer: None)\n",
            "2025-04-13 16:38:59 [scrapy.core.engine] DEBUG: Crawled (200) <GET https://www.disco.com.ar/vinagre-de-vino-cuisine-and-co-500-ml/p> (referer: None)\n",
            "2025-04-13 16:38:59 [scrapy.core.engine] DEBUG: Crawled (200) <GET https://www.disco.com.ar/cerveza-quilmes-stout-1lt/p> (referer: None)\n",
            "2025-04-13 16:38:59 [scrapy.core.scraper] DEBUG: Scraped from <200 https://www.disco.com.ar/sal-fina-celusal-500-gr/p>\n",
            "{'fecha': '13-04-2025', 'hora': '13:38', 'Nombre Producto': 'Sal Fina Celusal 500 Gr', 'Precio': '1200', 'URL': 'https://www.disco.com.ar/sal-fina-celusal-500-gr/p'}\n",
            "2025-04-13 16:38:59 [scrapy.core.scraper] DEBUG: Scraped from <200 https://www.disco.com.ar/gaseosa-coca-cola-sabor-original-2-25-l/p>\n",
            "{'fecha': '13-04-2025', 'hora': '13:38', 'Nombre Producto': 'Gaseosa Coca-cola Sabor Original 2.25 L', 'Precio': '4200', 'URL': 'https://www.disco.com.ar/gaseosa-coca-cola-sabor-original-2-25-l/p'}\n",
            "2025-04-13 16:38:59 [scrapy.core.scraper] DEBUG: Scraped from <200 https://www.disco.com.ar/cafe-molido-cabrales-250-gr/p>\n",
            "{'fecha': '13-04-2025', 'hora': '13:38', 'Nombre Producto': 'Café Molido Cabrales 250 Gr', 'Precio': '9100', 'URL': 'https://www.disco.com.ar/cafe-molido-cabrales-250-gr/p'}\n",
            "2025-04-13 16:38:59 [scrapy.core.scraper] DEBUG: Scraped from <200 https://www.disco.com.ar/yerba-mate-sin-tacc-chamigo-1-kg/p>\n",
            "{'fecha': '13-04-2025', 'hora': '13:38', 'Nombre Producto': 'Yerba Mate Sin Tacc Chamigo 1 Kg', 'Precio': '3100', 'URL': 'https://www.disco.com.ar/yerba-mate-sin-tacc-chamigo-1-kg/p'}\n",
            "2025-04-13 16:38:59 [scrapy.core.scraper] DEBUG: Scraped from <200 https://www.disco.com.ar/aderezo-mayonesa-natura-237-gr/p>\n",
            "{'fecha': '13-04-2025', 'hora': '13:38', 'Nombre Producto': 'Aderezo Mayonesa Natura 237 Gr', 'Precio': '1250', 'URL': 'https://www.disco.com.ar/aderezo-mayonesa-natura-237-gr/p'}\n",
            "2025-04-13 16:38:59 [scrapy.core.scraper] DEBUG: Scraped from <200 https://www.disco.com.ar/vinagre-de-vino-cuisine-and-co-500-ml/p>\n",
            "{'fecha': '13-04-2025', 'hora': '13:38', 'Nombre Producto': 'Vinagre De Vino Cuisine And Co 500 Ml', 'Precio': '1500', 'URL': 'https://www.disco.com.ar/vinagre-de-vino-cuisine-and-co-500-ml/p'}\n",
            "2025-04-13 16:38:59 [scrapy.core.scraper] DEBUG: Scraped from <200 https://www.disco.com.ar/cerveza-quilmes-stout-1lt/p>\n",
            "{'fecha': '13-04-2025', 'hora': '13:38', 'Nombre Producto': 'Cerveza Quilmes Stout 1lt', 'Precio': '3300', 'URL': 'https://www.disco.com.ar/cerveza-quilmes-stout-1lt/p'}\n",
            "2025-04-13 16:38:59 [scrapy.core.engine] INFO: Closing spider (finished)\n",
            "2025-04-13 16:38:59 [scrapy.extensions.feedexport] INFO: Stored csv feed (25 items) in: relevamiento_precios_disco.csv\n",
            "2025-04-13 16:38:59 [scrapy.statscollectors] INFO: Dumping Scrapy stats:\n",
            "{'downloader/request_bytes': 6723,\n",
            " 'downloader/request_count': 25,\n",
            " 'downloader/request_method_count/GET': 25,\n",
            " 'downloader/response_bytes': 4572575,\n",
            " 'downloader/response_count': 25,\n",
            " 'downloader/response_status_count/200': 25,\n",
            " 'elapsed_time_seconds': 1.742014,\n",
            " 'feedexport/success_count/FileFeedStorage': 1,\n",
            " 'finish_reason': 'finished',\n",
            " 'finish_time': datetime.datetime(2025, 4, 13, 16, 38, 59, 837114, tzinfo=datetime.timezone.utc),\n",
            " 'httpcompression/response_bytes': 42313206,\n",
            " 'httpcompression/response_count': 25,\n",
            " 'item_scraped_count': 25,\n",
            " 'items_per_minute': None,\n",
            " 'log_count/DEBUG': 51,\n",
            " 'log_count/INFO': 11,\n",
            " 'memusage/max': 313573376,\n",
            " 'memusage/startup': 313573376,\n",
            " 'response_received_count': 25,\n",
            " 'responses_per_minute': None,\n",
            " 'scheduler/dequeued': 25,\n",
            " 'scheduler/dequeued/memory': 25,\n",
            " 'scheduler/enqueued': 25,\n",
            " 'scheduler/enqueued/memory': 25,\n",
            " 'start_time': datetime.datetime(2025, 4, 13, 16, 38, 58, 95100, tzinfo=datetime.timezone.utc)}\n",
            "2025-04-13 16:38:59 [scrapy.core.engine] INFO: Spider closed (finished)\n"
          ]
        }
      ]
    },
    {
      "cell_type": "markdown",
      "source": [
        "## 04 - Descargar el archivo a la PC:"
      ],
      "metadata": {
        "id": "-TdYN8pz95dH"
      }
    },
    {
      "cell_type": "code",
      "source": [
        "files.download('relevamiento_precios_disco.csv')\n"
      ],
      "metadata": {
        "colab": {
          "base_uri": "https://localhost:8080/",
          "height": 17
        },
        "id": "ZpQNDeYy96Nl",
        "outputId": "8acf669c-ba90-4c4d-e0f2-e50dd0ff31ca"
      },
      "execution_count": 21,
      "outputs": [
        {
          "output_type": "display_data",
          "data": {
            "text/plain": [
              "<IPython.core.display.Javascript object>"
            ],
            "application/javascript": [
              "\n",
              "    async function download(id, filename, size) {\n",
              "      if (!google.colab.kernel.accessAllowed) {\n",
              "        return;\n",
              "      }\n",
              "      const div = document.createElement('div');\n",
              "      const label = document.createElement('label');\n",
              "      label.textContent = `Downloading \"${filename}\": `;\n",
              "      div.appendChild(label);\n",
              "      const progress = document.createElement('progress');\n",
              "      progress.max = size;\n",
              "      div.appendChild(progress);\n",
              "      document.body.appendChild(div);\n",
              "\n",
              "      const buffers = [];\n",
              "      let downloaded = 0;\n",
              "\n",
              "      const channel = await google.colab.kernel.comms.open(id);\n",
              "      // Send a message to notify the kernel that we're ready.\n",
              "      channel.send({})\n",
              "\n",
              "      for await (const message of channel.messages) {\n",
              "        // Send a message to notify the kernel that we're ready.\n",
              "        channel.send({})\n",
              "        if (message.buffers) {\n",
              "          for (const buffer of message.buffers) {\n",
              "            buffers.push(buffer);\n",
              "            downloaded += buffer.byteLength;\n",
              "            progress.value = downloaded;\n",
              "          }\n",
              "        }\n",
              "      }\n",
              "      const blob = new Blob(buffers, {type: 'application/binary'});\n",
              "      const a = document.createElement('a');\n",
              "      a.href = window.URL.createObjectURL(blob);\n",
              "      a.download = filename;\n",
              "      div.appendChild(a);\n",
              "      a.click();\n",
              "      div.remove();\n",
              "    }\n",
              "  "
            ]
          },
          "metadata": {}
        },
        {
          "output_type": "display_data",
          "data": {
            "text/plain": [
              "<IPython.core.display.Javascript object>"
            ],
            "application/javascript": [
              "download(\"download_9d25c7be-ae34-4fb5-b2d6-76175743dfd2\", \"relevamiento_precios_disco.csv\", 15126)"
            ]
          },
          "metadata": {}
        }
      ]
    }
  ]
}