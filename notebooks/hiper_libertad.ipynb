{
  "nbformat": 4,
  "nbformat_minor": 0,
  "metadata": {
    "colab": {
      "provenance": []
    },
    "kernelspec": {
      "name": "python3",
      "display_name": "Python 3"
    },
    "language_info": {
      "name": "python"
    }
  },
  "cells": [
    {
      "cell_type": "markdown",
      "source": [
        "# Para este proyecto, busco extraer los datos del producto y del precio del mismo de la pagina web de Hiper Libertad:\n",
        " https://www.hiperlibertad.com.ar/"
      ],
      "metadata": {
        "id": "YRmGZc-cAVnk"
      }
    },
    {
      "cell_type": "markdown",
      "source": [
        "## 00 - Instalar librerias necesarias:\n",
        "\n",
        "* Scrapy: para definir \"arañas\" (spiders) que navegan por sitios web y extraen información estructurad\n",
        "* Datetime: para definir fecha y hora"
      ],
      "metadata": {
        "id": "oD8CFBSG5xr6"
      }
    },
    {
      "cell_type": "code",
      "source": [
        "# 00- Instalar librerias necesarias:\n",
        "!pip install scrapy\n",
        "!pip install datetime"
      ],
      "metadata": {
        "colab": {
          "base_uri": "https://localhost:8080/"
        },
        "id": "IqgpK5mpA52G",
        "outputId": "1fbb19cb-8a27-497b-f525-9ff0329801b1"
      },
      "execution_count": 59,
      "outputs": [
        {
          "output_type": "stream",
          "name": "stdout",
          "text": [
            "Requirement already satisfied: scrapy in /usr/local/lib/python3.11/dist-packages (2.12.0)\n",
            "Requirement already satisfied: Twisted>=21.7.0 in /usr/local/lib/python3.11/dist-packages (from scrapy) (24.11.0)\n",
            "Requirement already satisfied: cryptography>=37.0.0 in /usr/local/lib/python3.11/dist-packages (from scrapy) (43.0.3)\n",
            "Requirement already satisfied: cssselect>=0.9.1 in /usr/local/lib/python3.11/dist-packages (from scrapy) (1.3.0)\n",
            "Requirement already satisfied: itemloaders>=1.0.1 in /usr/local/lib/python3.11/dist-packages (from scrapy) (1.3.2)\n",
            "Requirement already satisfied: parsel>=1.5.0 in /usr/local/lib/python3.11/dist-packages (from scrapy) (1.10.0)\n",
            "Requirement already satisfied: pyOpenSSL>=22.0.0 in /usr/local/lib/python3.11/dist-packages (from scrapy) (24.2.1)\n",
            "Requirement already satisfied: queuelib>=1.4.2 in /usr/local/lib/python3.11/dist-packages (from scrapy) (1.8.0)\n",
            "Requirement already satisfied: service-identity>=18.1.0 in /usr/local/lib/python3.11/dist-packages (from scrapy) (24.2.0)\n",
            "Requirement already satisfied: w3lib>=1.17.0 in /usr/local/lib/python3.11/dist-packages (from scrapy) (2.3.1)\n",
            "Requirement already satisfied: zope.interface>=5.1.0 in /usr/local/lib/python3.11/dist-packages (from scrapy) (7.2)\n",
            "Requirement already satisfied: protego>=0.1.15 in /usr/local/lib/python3.11/dist-packages (from scrapy) (0.4.0)\n",
            "Requirement already satisfied: itemadapter>=0.1.0 in /usr/local/lib/python3.11/dist-packages (from scrapy) (0.11.0)\n",
            "Requirement already satisfied: packaging in /usr/local/lib/python3.11/dist-packages (from scrapy) (24.2)\n",
            "Requirement already satisfied: tldextract in /usr/local/lib/python3.11/dist-packages (from scrapy) (5.2.0)\n",
            "Requirement already satisfied: lxml>=4.6.0 in /usr/local/lib/python3.11/dist-packages (from scrapy) (5.3.1)\n",
            "Requirement already satisfied: defusedxml>=0.7.1 in /usr/local/lib/python3.11/dist-packages (from scrapy) (0.7.1)\n",
            "Requirement already satisfied: PyDispatcher>=2.0.5 in /usr/local/lib/python3.11/dist-packages (from scrapy) (2.0.7)\n",
            "Requirement already satisfied: cffi>=1.12 in /usr/local/lib/python3.11/dist-packages (from cryptography>=37.0.0->scrapy) (1.17.1)\n",
            "Requirement already satisfied: jmespath>=0.9.5 in /usr/local/lib/python3.11/dist-packages (from itemloaders>=1.0.1->scrapy) (1.0.1)\n",
            "Requirement already satisfied: attrs>=19.1.0 in /usr/local/lib/python3.11/dist-packages (from service-identity>=18.1.0->scrapy) (25.3.0)\n",
            "Requirement already satisfied: pyasn1 in /usr/local/lib/python3.11/dist-packages (from service-identity>=18.1.0->scrapy) (0.6.1)\n",
            "Requirement already satisfied: pyasn1-modules in /usr/local/lib/python3.11/dist-packages (from service-identity>=18.1.0->scrapy) (0.4.2)\n",
            "Requirement already satisfied: automat>=24.8.0 in /usr/local/lib/python3.11/dist-packages (from Twisted>=21.7.0->scrapy) (24.8.1)\n",
            "Requirement already satisfied: constantly>=15.1 in /usr/local/lib/python3.11/dist-packages (from Twisted>=21.7.0->scrapy) (23.10.4)\n",
            "Requirement already satisfied: hyperlink>=17.1.1 in /usr/local/lib/python3.11/dist-packages (from Twisted>=21.7.0->scrapy) (21.0.0)\n",
            "Requirement already satisfied: incremental>=24.7.0 in /usr/local/lib/python3.11/dist-packages (from Twisted>=21.7.0->scrapy) (24.7.2)\n",
            "Requirement already satisfied: typing-extensions>=4.2.0 in /usr/local/lib/python3.11/dist-packages (from Twisted>=21.7.0->scrapy) (4.13.1)\n",
            "Requirement already satisfied: setuptools in /usr/local/lib/python3.11/dist-packages (from zope.interface>=5.1.0->scrapy) (75.2.0)\n",
            "Requirement already satisfied: idna in /usr/local/lib/python3.11/dist-packages (from tldextract->scrapy) (3.10)\n",
            "Requirement already satisfied: requests>=2.1.0 in /usr/local/lib/python3.11/dist-packages (from tldextract->scrapy) (2.32.3)\n",
            "Requirement already satisfied: requests-file>=1.4 in /usr/local/lib/python3.11/dist-packages (from tldextract->scrapy) (2.1.0)\n",
            "Requirement already satisfied: filelock>=3.0.8 in /usr/local/lib/python3.11/dist-packages (from tldextract->scrapy) (3.18.0)\n",
            "Requirement already satisfied: pycparser in /usr/local/lib/python3.11/dist-packages (from cffi>=1.12->cryptography>=37.0.0->scrapy) (2.22)\n",
            "Requirement already satisfied: charset-normalizer<4,>=2 in /usr/local/lib/python3.11/dist-packages (from requests>=2.1.0->tldextract->scrapy) (3.4.1)\n",
            "Requirement already satisfied: urllib3<3,>=1.21.1 in /usr/local/lib/python3.11/dist-packages (from requests>=2.1.0->tldextract->scrapy) (2.3.0)\n",
            "Requirement already satisfied: certifi>=2017.4.17 in /usr/local/lib/python3.11/dist-packages (from requests>=2.1.0->tldextract->scrapy) (2025.1.31)\n",
            "Requirement already satisfied: datetime in /usr/local/lib/python3.11/dist-packages (5.5)\n",
            "Requirement already satisfied: zope.interface in /usr/local/lib/python3.11/dist-packages (from datetime) (7.2)\n",
            "Requirement already satisfied: pytz in /usr/local/lib/python3.11/dist-packages (from datetime) (2025.2)\n",
            "Requirement already satisfied: setuptools in /usr/local/lib/python3.11/dist-packages (from zope.interface->datetime) (75.2.0)\n"
          ]
        }
      ]
    },
    {
      "cell_type": "markdown",
      "source": [
        "## 01 -  Importar las librerias necesarias:\n",
        "\n",
        "* scrapy: para seleccionar elementos HTML con selectores CSS\n",
        "* datetime: para manejar las fechas y horas\n",
        "* pytz: para trabajar con zonas horarias\n",
        "* google.colab.files: para subir o descargar archivos desde colab a la computadora"
      ],
      "metadata": {
        "id": "xqlJVYef6glc"
      }
    },
    {
      "cell_type": "code",
      "source": [
        "import scrapy\n",
        "from datetime import datetime\n",
        "import pytz\n",
        "from google.colab import files"
      ],
      "metadata": {
        "id": "xJUITj2WhtZq"
      },
      "execution_count": 60,
      "outputs": []
    },
    {
      "cell_type": "markdown",
      "source": [
        "## 02 -  Desarrollar y guardar el script en el archivo hiper_libertad.py\n",
        "\n",
        "Se define la araña web y una lista de URLs que corresponden a productos del supermercado Hiper Libertad. Asi mismo, se define la fundion parse, que procesa cada pagina"
      ],
      "metadata": {
        "id": "CWFrVvoG7HB2"
      }
    },
    {
      "cell_type": "code",
      "source": [
        "%%writefile hiper_libertad.py\n",
        "\n",
        "# 01 - Importo librerias necesarias:\n",
        "import scrapy\n",
        "from scrapy.cmdline import execute\n",
        "from datetime import datetime\n",
        "import pytz\n",
        "\n",
        "\n",
        "# 02-  Configuro el la fecha actual:\n",
        "zona_arg = pytz.timezone('America/Argentina/Buenos_Aires')\n",
        "\n",
        "hora = datetime.now(zona_arg).time()\n",
        "fecha = datetime.now().today()\n",
        "\n",
        "#03- Formato correcto para la fecha y hora:\n",
        "fHoraMinuto = \"%H:%M\"\n",
        "fDiaMesAño = \"%d-%m-%Y\"\n",
        "\n",
        "horaActual = hora.strftime(fHoraMinuto)\n",
        "fechaActual = fecha.strftime(fDiaMesAño)\n",
        "\n",
        "# prueba de resultado:\n",
        "#print(f'''\n",
        "#La fecha actual es: {fechaActual}\n",
        "#La hora actual es: {horaActual}''')\n",
        "\n",
        "# 04 - Configuro la araña:\n",
        "class ProductosSpider(scrapy.Spider):\n",
        "    name = 'Canasta'\n",
        "    start_urls = [\n",
        "        \"https://www.hiperlibertad.com.ar/pan-frances-x-500-g/p\",\n",
        "        \"https://www.hiperlibertad.com.ar/galletita-cracker-la-providencia-clasica-x303g/p\",\n",
        "        \"https://www.hiperlibertad.com.ar/galletas-terrabusi-variedad-dorada-x-300-gr/p\",\n",
        "        \"https://www.hiperlibertad.com.ar/arroz-parboil-taeq-240gr/p\",\n",
        "        \"https://www.hiperlibertad.com.ar/harina-de-trigo-morixe-000-1-kg/p\",\n",
        "        \"https://www.hiperlibertad.com.ar/fideos-tallarines-n7-matarazzo-x-500-gr/p\",\n",
        "        \"https://www.hiperlibertad.com.ar/papa-cepillada-x-1-kg/p\",\n",
        "        \"https://www.hiperlibertad.com.ar/batata-x-500-g/p\",\n",
        "        \"https://www.hiperlibertad.com.ar/azucar-azucel-1-kilo/p\",\n",
        "        \"https://www.hiperlibertad.com.ar/mermelada-dulcor-durazno-frasco-454-gr/p\",\n",
        "        \"https://www.hiperlibertad.com.ar/lentejas-taeq-200gr/p\",\n",
        "        \"https://www.hiperlibertad.com.ar/arvejas-montenevi-x-340-gr/p\",\n",
        "        \"https://www.hiperlibertad.com.ar/acelga-congelada-green-life-500-g/p\",\n",
        "        \"https://www.hiperlibertad.com.ar/cebolla-x-500-g/p\",\n",
        "        \"https://www.hiperlibertad.com.ar/bandeja-lechuga-mantecosa-lavada-sue-o-verde-x-200-gr/p\",\n",
        "        \"https://www.hiperlibertad.com.ar/tomate-perita-x-500g/p\",\n",
        "        \"https://www.hiperlibertad.com.ar/calabacin-anquito-fraccionado-x-700gr-1-2-calabacin/p\",\n",
        "        \"https://www.hiperlibertad.com.ar/mandarina-x-1kg/p\",\n",
        "        \"https://www.hiperlibertad.com.ar/naranja-p-jugo-x-1kg/p\",\n",
        "        \"https://www.hiperlibertad.com.ar/banana-x-kg-ecomm/p\",\n",
        "        \"https://www.hiperlibertad.com.ar/pollo-fresco-x-un-aprox-2-5kg/p\",\n",
        "        \"https://www.hiperlibertad.com.ar/pulpa-de-jamon-de-cerdo-x-500-g/p\",\n",
        "        \"https://www.hiperlibertad.com.ar/milanesa-de-bola-de-lomo-de-novillito-x-500-g/p\",\n",
        "        \"https://www.hiperlibertad.com.ar/huevo-blanco-carnave-carton-x-12-unidades/p\",\n",
        "        \"https://www.hiperlibertad.com.ar/leche-entera-c-calcio-la-lacteo-larga-vida-1-l/p\",\n",
        "        \"https://www.hiperlibertad.com.ar/manteca-tonadita-200gr/p\",\n",
        "        \"https://www.hiperlibertad.com.ar/aceite-de-girasol-alsamar-x-900-ml/p\",\n",
        "        \"https://www.hiperlibertad.com.ar/brahma-chopp-can-4x6-473cc/p\",\n",
        "        \"https://www.hiperlibertad.com.ar/sal-fina-dos-anclas-250-gr/p\",\n",
        "        \"https://www.hiperlibertad.com.ar/mayonesa-hellmanns-clasica-x-475-gr/p\",\n",
        "        \"https://www.hiperlibertad.com.ar/cafe-molido-bonafide-sensaciones-torrado-intenso-500-gr/p\",\n",
        "        \"https://www.hiperlibertad.com.ar/yerba-playadito-suave-bcp-1kg/p\",\n",
        "    ]\n",
        "\n",
        "# 05 - Configuro la funcion Parse:\n",
        "\n",
        "    def parse(self, response):\n",
        "            nombre_producto = response.css('span.vtex-store-components-3-x-productBrand::text').get()\n",
        "\n",
        "            # El precio esta dividido en 2 span diferentes (enteros y decimales)\n",
        "            precio_entero = response.css(\"span.vtex-product-price-1-x-currencyInteger::text\").getall()\n",
        "            precio_decimales =  response.css(\"span.vtex-product-price-1-x-currencyFraction::text\").get()\n",
        "\n",
        "            if precio_entero: # Si tiene un precio configurado\n",
        "              if len(precio_entero) == 1:  # Tiene solamente un preciosin ofertas\n",
        "                precio = f'{precio_entero[0]}, {precio_decimales}'\n",
        "              elif len(precio_entero[0])> 1: # cuando el producto tiene un precio anterior, enfatizando una oferta\n",
        "                precio = f'{precio_entero[1]}, {precio_decimales[1]}'  # Se toma el segundo valor, que es el precio real sin promocion.\n",
        "              else:\n",
        "                precio = f'{precio_entero[0]}.{precio_entero[1]}, {precio_decimales}' # cuando tiene entero y decimales\n",
        "            else: # Si no tiene un precion configurado\n",
        "              precio = \"No disponible\"\n",
        "\n",
        "            yield {\n",
        "                \"fecha\": fechaActual,\n",
        "                \"hora\": horaActual,\n",
        "                \"Nombre Producto\": nombre_producto,\n",
        "                \"Precio\": precio,\n",
        "                \"URL\": response.url\n",
        "            }"
      ],
      "metadata": {
        "id": "MAnUxI_pATeA",
        "colab": {
          "base_uri": "https://localhost:8080/"
        },
        "outputId": "ff541118-fabd-4e5c-c143-613e0f45efe6"
      },
      "execution_count": 61,
      "outputs": [
        {
          "output_type": "stream",
          "name": "stdout",
          "text": [
            "Overwriting hiper_libertad.py\n"
          ]
        }
      ]
    },
    {
      "cell_type": "markdown",
      "source": [
        "## 03 - Ejecutar el scrapper\n",
        "Se ejecuta el scraper en el archivo hiper_libertad.py y guarda los resultados en un archivo CSV, llamado relevamiento_precios_hiper_libertad.csv."
      ],
      "metadata": {
        "id": "PLv-Hxxt7slF"
      }
    },
    {
      "cell_type": "code",
      "source": [
        "# Ejecutar:\n",
        "!scrapy runspider hiper_libertad.py -o relevamiento_precios_hiper_libertad.csv\n"
      ],
      "metadata": {
        "colab": {
          "base_uri": "https://localhost:8080/"
        },
        "id": "tm0FBkyOAv9r",
        "outputId": "3a547c86-19aa-444b-eb6d-f0b7a4d32b56"
      },
      "execution_count": 62,
      "outputs": [
        {
          "output_type": "stream",
          "name": "stdout",
          "text": [
            "2025-04-10 23:12:32 [scrapy.utils.log] INFO: Scrapy 2.12.0 started (bot: scrapybot)\n",
            "2025-04-10 23:12:32 [scrapy.utils.log] INFO: Versions: lxml 5.3.1.0, libxml2 2.12.9, cssselect 1.3.0, parsel 1.10.0, w3lib 2.3.1, Twisted 24.11.0, Python 3.11.12 (main, Apr  9 2025, 08:55:54) [GCC 11.4.0], pyOpenSSL 24.2.1 (OpenSSL 3.3.2 3 Sep 2024), cryptography 43.0.3, Platform Linux-6.1.85+-x86_64-with-glibc2.35\n",
            "2025-04-10 23:12:32 [scrapy.addons] INFO: Enabled addons:\n",
            "[]\n",
            "2025-04-10 23:12:32 [scrapy.utils.log] DEBUG: Using reactor: twisted.internet.epollreactor.EPollReactor\n",
            "2025-04-10 23:12:32 [scrapy.extensions.telnet] INFO: Telnet Password: e30091c95156efbe\n",
            "2025-04-10 23:12:32 [scrapy.middleware] INFO: Enabled extensions:\n",
            "['scrapy.extensions.corestats.CoreStats',\n",
            " 'scrapy.extensions.telnet.TelnetConsole',\n",
            " 'scrapy.extensions.memusage.MemoryUsage',\n",
            " 'scrapy.extensions.feedexport.FeedExporter',\n",
            " 'scrapy.extensions.logstats.LogStats']\n",
            "2025-04-10 23:12:32 [scrapy.crawler] INFO: Overridden settings:\n",
            "{'SPIDER_LOADER_WARN_ONLY': True}\n",
            "2025-04-10 23:12:33 [scrapy.middleware] INFO: Enabled downloader middlewares:\n",
            "['scrapy.downloadermiddlewares.offsite.OffsiteMiddleware',\n",
            " 'scrapy.downloadermiddlewares.httpauth.HttpAuthMiddleware',\n",
            " 'scrapy.downloadermiddlewares.downloadtimeout.DownloadTimeoutMiddleware',\n",
            " 'scrapy.downloadermiddlewares.defaultheaders.DefaultHeadersMiddleware',\n",
            " 'scrapy.downloadermiddlewares.useragent.UserAgentMiddleware',\n",
            " 'scrapy.downloadermiddlewares.retry.RetryMiddleware',\n",
            " 'scrapy.downloadermiddlewares.redirect.MetaRefreshMiddleware',\n",
            " 'scrapy.downloadermiddlewares.httpcompression.HttpCompressionMiddleware',\n",
            " 'scrapy.downloadermiddlewares.redirect.RedirectMiddleware',\n",
            " 'scrapy.downloadermiddlewares.cookies.CookiesMiddleware',\n",
            " 'scrapy.downloadermiddlewares.httpproxy.HttpProxyMiddleware',\n",
            " 'scrapy.downloadermiddlewares.stats.DownloaderStats']\n",
            "2025-04-10 23:12:33 [scrapy.middleware] INFO: Enabled spider middlewares:\n",
            "['scrapy.spidermiddlewares.httperror.HttpErrorMiddleware',\n",
            " 'scrapy.spidermiddlewares.referer.RefererMiddleware',\n",
            " 'scrapy.spidermiddlewares.urllength.UrlLengthMiddleware',\n",
            " 'scrapy.spidermiddlewares.depth.DepthMiddleware']\n",
            "2025-04-10 23:12:33 [scrapy.middleware] INFO: Enabled item pipelines:\n",
            "[]\n",
            "2025-04-10 23:12:33 [scrapy.core.engine] INFO: Spider opened\n",
            "2025-04-10 23:12:33 [scrapy.extensions.logstats] INFO: Crawled 0 pages (at 0 pages/min), scraped 0 items (at 0 items/min)\n",
            "2025-04-10 23:12:33 [scrapy.extensions.telnet] INFO: Telnet console listening on 127.0.0.1:6024\n",
            "2025-04-10 23:12:33 [scrapy.core.engine] DEBUG: Crawled (200) <GET https://www.hiperlibertad.com.ar/fideos-tallarines-n7-matarazzo-x-500-gr/p> (referer: None)\n",
            "2025-04-10 23:12:33 [scrapy.core.engine] DEBUG: Crawled (200) <GET https://www.hiperlibertad.com.ar/galletita-cracker-la-providencia-clasica-x303g/p> (referer: None)\n",
            "2025-04-10 23:12:33 [scrapy.core.engine] DEBUG: Crawled (200) <GET https://www.hiperlibertad.com.ar/arroz-parboil-taeq-240gr/p> (referer: None)\n",
            "2025-04-10 23:12:33 [scrapy.core.engine] DEBUG: Crawled (200) <GET https://www.hiperlibertad.com.ar/azucar-azucel-1-kilo/p> (referer: None)\n",
            "2025-04-10 23:12:33 [scrapy.core.engine] DEBUG: Crawled (200) <GET https://www.hiperlibertad.com.ar/harina-de-trigo-morixe-000-1-kg/p> (referer: None)\n",
            "2025-04-10 23:12:33 [scrapy.core.engine] DEBUG: Crawled (200) <GET https://www.hiperlibertad.com.ar/papa-cepillada-x-1-kg/p> (referer: None)\n",
            "2025-04-10 23:12:33 [scrapy.core.engine] DEBUG: Crawled (200) <GET https://www.hiperlibertad.com.ar/batata-x-500-g/p> (referer: None)\n",
            "2025-04-10 23:12:33 [scrapy.core.scraper] DEBUG: Scraped from <200 https://www.hiperlibertad.com.ar/fideos-tallarines-n7-matarazzo-x-500-gr/p>\n",
            "{'fecha': '10-04-2025', 'hora': '20:12', 'Nombre Producto': None, 'Precio': 'No disponible', 'URL': 'https://www.hiperlibertad.com.ar/fideos-tallarines-n7-matarazzo-x-500-gr/p'}\n",
            "2025-04-10 23:12:33 [scrapy.core.scraper] DEBUG: Scraped from <200 https://www.hiperlibertad.com.ar/galletita-cracker-la-providencia-clasica-x303g/p>\n",
            "{'fecha': '10-04-2025', 'hora': '20:12', 'Nombre Producto': 'GALLETAS PROVIDENCIA CRACKERS X 303 G.', 'Precio': 'No disponible', 'URL': 'https://www.hiperlibertad.com.ar/galletita-cracker-la-providencia-clasica-x303g/p'}\n",
            "2025-04-10 23:12:33 [scrapy.core.scraper] DEBUG: Scraped from <200 https://www.hiperlibertad.com.ar/arroz-parboil-taeq-240gr/p>\n",
            "{'fecha': '10-04-2025', 'hora': '20:12', 'Nombre Producto': None, 'Precio': 'No disponible', 'URL': 'https://www.hiperlibertad.com.ar/arroz-parboil-taeq-240gr/p'}\n",
            "2025-04-10 23:12:33 [scrapy.core.engine] DEBUG: Crawled (200) <GET https://www.hiperlibertad.com.ar/mermelada-dulcor-durazno-frasco-454-gr/p> (referer: None)\n",
            "2025-04-10 23:12:33 [scrapy.core.scraper] DEBUG: Scraped from <200 https://www.hiperlibertad.com.ar/azucar-azucel-1-kilo/p>\n",
            "{'fecha': '10-04-2025', 'hora': '20:12', 'Nombre Producto': 'Azucar Azucel 1 Kilo', 'Precio': 'No disponible', 'URL': 'https://www.hiperlibertad.com.ar/azucar-azucel-1-kilo/p'}\n",
            "2025-04-10 23:12:33 [scrapy.core.engine] DEBUG: Crawled (200) <GET https://www.hiperlibertad.com.ar/lentejas-taeq-200gr/p> (referer: None)\n",
            "2025-04-10 23:12:33 [scrapy.core.scraper] DEBUG: Scraped from <200 https://www.hiperlibertad.com.ar/harina-de-trigo-morixe-000-1-kg/p>\n",
            "{'fecha': '10-04-2025', 'hora': '20:12', 'Nombre Producto': 'HARINA 000 MORIXE X 1KG', 'Precio': '899, 00', 'URL': 'https://www.hiperlibertad.com.ar/harina-de-trigo-morixe-000-1-kg/p'}\n",
            "2025-04-10 23:12:34 [scrapy.core.scraper] DEBUG: Scraped from <200 https://www.hiperlibertad.com.ar/papa-cepillada-x-1-kg/p>\n",
            "{'fecha': '10-04-2025', 'hora': '20:12', 'Nombre Producto': 'PAPA CEPILLADA X 1 KG21 ECOMM', 'Precio': 'No disponible', 'URL': 'https://www.hiperlibertad.com.ar/papa-cepillada-x-1-kg/p'}\n",
            "2025-04-10 23:12:34 [scrapy.core.scraper] DEBUG: Scraped from <200 https://www.hiperlibertad.com.ar/batata-x-500-g/p>\n",
            "{'fecha': '10-04-2025', 'hora': '20:12', 'Nombre Producto': 'BATATA X 500 G ECOMM', 'Precio': 'No disponible', 'URL': 'https://www.hiperlibertad.com.ar/batata-x-500-g/p'}\n",
            "2025-04-10 23:12:34 [scrapy.core.engine] DEBUG: Crawled (200) <GET https://www.hiperlibertad.com.ar/arvejas-montenevi-x-340-gr/p> (referer: None)\n",
            "2025-04-10 23:12:34 [scrapy.core.engine] DEBUG: Crawled (200) <GET https://www.hiperlibertad.com.ar/acelga-congelada-green-life-500-g/p> (referer: None)\n",
            "2025-04-10 23:12:34 [scrapy.core.engine] DEBUG: Crawled (200) <GET https://www.hiperlibertad.com.ar/cebolla-x-500-g/p> (referer: None)\n",
            "2025-04-10 23:12:34 [scrapy.core.engine] DEBUG: Crawled (200) <GET https://www.hiperlibertad.com.ar/bandeja-lechuga-mantecosa-lavada-sue-o-verde-x-200-gr/p> (referer: None)\n",
            "2025-04-10 23:12:34 [scrapy.core.engine] DEBUG: Crawled (404) <GET https://www.hiperlibertad.com.ar/galletas-terrabusi-variedad-dorada-x-300-gr/p> (referer: None)\n",
            "2025-04-10 23:12:34 [scrapy.core.scraper] DEBUG: Scraped from <200 https://www.hiperlibertad.com.ar/mermelada-dulcor-durazno-frasco-454-gr/p>\n",
            "{'fecha': '10-04-2025', 'hora': '20:12', 'Nombre Producto': None, 'Precio': 'No disponible', 'URL': 'https://www.hiperlibertad.com.ar/mermelada-dulcor-durazno-frasco-454-gr/p'}\n",
            "2025-04-10 23:12:34 [scrapy.core.scraper] DEBUG: Scraped from <200 https://www.hiperlibertad.com.ar/lentejas-taeq-200gr/p>\n",
            "{'fecha': '10-04-2025', 'hora': '20:12', 'Nombre Producto': None, 'Precio': 'No disponible', 'URL': 'https://www.hiperlibertad.com.ar/lentejas-taeq-200gr/p'}\n",
            "2025-04-10 23:12:34 [scrapy.core.engine] DEBUG: Crawled (200) <GET https://www.hiperlibertad.com.ar/tomate-perita-x-500g/p> (referer: None)\n",
            "2025-04-10 23:12:34 [scrapy.spidermiddlewares.httperror] INFO: Ignoring response <404 https://www.hiperlibertad.com.ar/galletas-terrabusi-variedad-dorada-x-300-gr/p>: HTTP status code is not handled or not allowed\n",
            "2025-04-10 23:12:34 [scrapy.core.engine] DEBUG: Crawled (200) <GET https://www.hiperlibertad.com.ar/calabacin-anquito-fraccionado-x-700gr-1-2-calabacin/p> (referer: None)\n",
            "2025-04-10 23:12:34 [scrapy.core.scraper] DEBUG: Scraped from <200 https://www.hiperlibertad.com.ar/arvejas-montenevi-x-340-gr/p>\n",
            "{'fecha': '10-04-2025', 'hora': '20:12', 'Nombre Producto': 'ARVEJAS MONTE NEVI X 340 G.', 'Precio': 'No disponible', 'URL': 'https://www.hiperlibertad.com.ar/arvejas-montenevi-x-340-gr/p'}\n",
            "2025-04-10 23:12:34 [scrapy.core.scraper] DEBUG: Scraped from <200 https://www.hiperlibertad.com.ar/acelga-congelada-green-life-500-g/p>\n",
            "{'fecha': '10-04-2025', 'hora': '20:12', 'Nombre Producto': None, 'Precio': 'No disponible', 'URL': 'https://www.hiperlibertad.com.ar/acelga-congelada-green-life-500-g/p'}\n",
            "2025-04-10 23:12:34 [scrapy.core.scraper] DEBUG: Scraped from <200 https://www.hiperlibertad.com.ar/cebolla-x-500-g/p>\n",
            "{'fecha': '10-04-2025', 'hora': '20:12', 'Nombre Producto': 'CEBOLLA X 500 G ECOMM', 'Precio': '499, 50', 'URL': 'https://www.hiperlibertad.com.ar/cebolla-x-500-g/p'}\n",
            "2025-04-10 23:12:34 [scrapy.core.scraper] DEBUG: Scraped from <200 https://www.hiperlibertad.com.ar/bandeja-lechuga-mantecosa-lavada-sue-o-verde-x-200-gr/p>\n",
            "{'fecha': '10-04-2025', 'hora': '20:12', 'Nombre Producto': 'LECHUGA MANTECA LAVADA X 200 G.', 'Precio': 'No disponible', 'URL': 'https://www.hiperlibertad.com.ar/bandeja-lechuga-mantecosa-lavada-sue-o-verde-x-200-gr/p'}\n",
            "2025-04-10 23:12:34 [scrapy.core.engine] DEBUG: Crawled (200) <GET https://www.hiperlibertad.com.ar/mandarina-x-1kg/p> (referer: None)\n",
            "2025-04-10 23:12:34 [scrapy.core.engine] DEBUG: Crawled (200) <GET https://www.hiperlibertad.com.ar/naranja-p-jugo-x-1kg/p> (referer: None)\n",
            "2025-04-10 23:12:34 [scrapy.core.engine] DEBUG: Crawled (200) <GET https://www.hiperlibertad.com.ar/banana-x-kg-ecomm/p> (referer: None)\n",
            "2025-04-10 23:12:35 [scrapy.core.engine] DEBUG: Crawled (200) <GET https://www.hiperlibertad.com.ar/pan-frances-x-500-g/p> (referer: None)\n",
            "2025-04-10 23:12:35 [scrapy.core.scraper] DEBUG: Scraped from <200 https://www.hiperlibertad.com.ar/tomate-perita-x-500g/p>\n",
            "{'fecha': '10-04-2025', 'hora': '20:12', 'Nombre Producto': 'TOMATE PERITA X 500G ECOMM', 'Precio': 'No disponible', 'URL': 'https://www.hiperlibertad.com.ar/tomate-perita-x-500g/p'}\n",
            "2025-04-10 23:12:35 [scrapy.core.scraper] DEBUG: Scraped from <200 https://www.hiperlibertad.com.ar/calabacin-anquito-fraccionado-x-700gr-1-2-calabacin/p>\n",
            "{'fecha': '10-04-2025', 'hora': '20:12', 'Nombre Producto': 'CALABACIN (ANQUITO) X 700G ECOMM', 'Precio': '629, 30', 'URL': 'https://www.hiperlibertad.com.ar/calabacin-anquito-fraccionado-x-700gr-1-2-calabacin/p'}\n",
            "2025-04-10 23:12:35 [scrapy.core.scraper] DEBUG: Scraped from <200 https://www.hiperlibertad.com.ar/mandarina-x-1kg/p>\n",
            "{'fecha': '10-04-2025', 'hora': '20:12', 'Nombre Producto': 'MANDARINA X 1KG ECOMM', 'Precio': 'No disponible', 'URL': 'https://www.hiperlibertad.com.ar/mandarina-x-1kg/p'}\n",
            "2025-04-10 23:12:35 [scrapy.core.scraper] DEBUG: Scraped from <200 https://www.hiperlibertad.com.ar/naranja-p-jugo-x-1kg/p>\n",
            "{'fecha': '10-04-2025', 'hora': '20:12', 'Nombre Producto': 'NARANJA P/JUGO X 1KG', 'Precio': 'No disponible', 'URL': 'https://www.hiperlibertad.com.ar/naranja-p-jugo-x-1kg/p'}\n",
            "2025-04-10 23:12:35 [scrapy.core.scraper] DEBUG: Scraped from <200 https://www.hiperlibertad.com.ar/banana-x-kg-ecomm/p>\n",
            "{'fecha': '10-04-2025', 'hora': '20:12', 'Nombre Producto': 'BANANA X KG ECOMM', 'Precio': '2.299, 00', 'URL': 'https://www.hiperlibertad.com.ar/banana-x-kg-ecomm/p'}\n",
            "2025-04-10 23:12:35 [scrapy.core.scraper] DEBUG: Scraped from <200 https://www.hiperlibertad.com.ar/pan-frances-x-500-g/p>\n",
            "{'fecha': '10-04-2025', 'hora': '20:12', 'Nombre Producto': 'PAN FRANC�S X 500 G ECOMM C/CPC', 'Precio': 'No disponible', 'URL': 'https://www.hiperlibertad.com.ar/pan-frances-x-500-g/p'}\n",
            "2025-04-10 23:12:35 [scrapy.core.engine] DEBUG: Crawled (200) <GET https://www.hiperlibertad.com.ar/pollo-fresco-x-un-aprox-2-5kg/p> (referer: None)\n",
            "2025-04-10 23:12:35 [scrapy.core.engine] DEBUG: Crawled (200) <GET https://www.hiperlibertad.com.ar/pulpa-de-jamon-de-cerdo-x-500-g/p> (referer: None)\n",
            "2025-04-10 23:12:35 [scrapy.core.engine] DEBUG: Crawled (200) <GET https://www.hiperlibertad.com.ar/milanesa-de-bola-de-lomo-de-novillito-x-500-g/p> (referer: None)\n",
            "2025-04-10 23:12:35 [scrapy.core.engine] DEBUG: Crawled (200) <GET https://www.hiperlibertad.com.ar/leche-entera-c-calcio-la-lacteo-larga-vida-1-l/p> (referer: None)\n",
            "2025-04-10 23:12:35 [scrapy.core.engine] DEBUG: Crawled (200) <GET https://www.hiperlibertad.com.ar/huevo-blanco-carnave-carton-x-12-unidades/p> (referer: None)\n",
            "2025-04-10 23:12:35 [scrapy.core.engine] DEBUG: Crawled (200) <GET https://www.hiperlibertad.com.ar/manteca-tonadita-200gr/p> (referer: None)\n",
            "2025-04-10 23:12:35 [scrapy.core.engine] DEBUG: Crawled (200) <GET https://www.hiperlibertad.com.ar/aceite-de-girasol-alsamar-x-900-ml/p> (referer: None)\n",
            "2025-04-10 23:12:35 [scrapy.core.scraper] DEBUG: Scraped from <200 https://www.hiperlibertad.com.ar/pollo-fresco-x-un-aprox-2-5kg/p>\n",
            "{'fecha': '10-04-2025', 'hora': '20:12', 'Nombre Producto': 'POLLO FRESCO X UN. (APROX. 2,5KG)', 'Precio': 'No disponible', 'URL': 'https://www.hiperlibertad.com.ar/pollo-fresco-x-un-aprox-2-5kg/p'}\n",
            "2025-04-10 23:12:35 [scrapy.core.engine] DEBUG: Crawled (200) <GET https://www.hiperlibertad.com.ar/brahma-chopp-can-4x6-473cc/p> (referer: None)\n",
            "2025-04-10 23:12:35 [scrapy.core.engine] DEBUG: Crawled (200) <GET https://www.hiperlibertad.com.ar/sal-fina-dos-anclas-250-gr/p> (referer: None)\n",
            "2025-04-10 23:12:35 [scrapy.core.engine] DEBUG: Crawled (200) <GET https://www.hiperlibertad.com.ar/mayonesa-hellmanns-clasica-x-475-gr/p> (referer: None)\n",
            "2025-04-10 23:12:35 [scrapy.core.scraper] DEBUG: Scraped from <200 https://www.hiperlibertad.com.ar/pulpa-de-jamon-de-cerdo-x-500-g/p>\n",
            "{'fecha': '10-04-2025', 'hora': '20:12', 'Nombre Producto': 'PULPA DE JAMÓN DE CERDO x 500 g', 'Precio': 'No disponible', 'URL': 'https://www.hiperlibertad.com.ar/pulpa-de-jamon-de-cerdo-x-500-g/p'}\n",
            "2025-04-10 23:12:35 [scrapy.core.scraper] DEBUG: Scraped from <200 https://www.hiperlibertad.com.ar/milanesa-de-bola-de-lomo-de-novillito-x-500-g/p>\n",
            "{'fecha': '10-04-2025', 'hora': '20:12', 'Nombre Producto': 'BOLA DE LOMO DE NOVILLITO  x 500 g', 'Precio': 'No disponible', 'URL': 'https://www.hiperlibertad.com.ar/milanesa-de-bola-de-lomo-de-novillito-x-500-g/p'}\n",
            "2025-04-10 23:12:35 [scrapy.core.scraper] DEBUG: Scraped from <200 https://www.hiperlibertad.com.ar/leche-entera-c-calcio-la-lacteo-larga-vida-1-l/p>\n",
            "{'fecha': '10-04-2025', 'hora': '20:12', 'Nombre Producto': None, 'Precio': 'No disponible', 'URL': 'https://www.hiperlibertad.com.ar/leche-entera-c-calcio-la-lacteo-larga-vida-1-l/p'}\n",
            "2025-04-10 23:12:35 [scrapy.core.scraper] DEBUG: Scraped from <200 https://www.hiperlibertad.com.ar/huevo-blanco-carnave-carton-x-12-unidades/p>\n",
            "{'fecha': '10-04-2025', 'hora': '20:12', 'Nombre Producto': None, 'Precio': 'No disponible', 'URL': 'https://www.hiperlibertad.com.ar/huevo-blanco-carnave-carton-x-12-unidades/p'}\n",
            "2025-04-10 23:12:35 [scrapy.core.scraper] DEBUG: Scraped from <200 https://www.hiperlibertad.com.ar/manteca-tonadita-200gr/p>\n",
            "{'fecha': '10-04-2025', 'hora': '20:12', 'Nombre Producto': None, 'Precio': 'No disponible', 'URL': 'https://www.hiperlibertad.com.ar/manteca-tonadita-200gr/p'}\n",
            "2025-04-10 23:12:35 [scrapy.core.scraper] DEBUG: Scraped from <200 https://www.hiperlibertad.com.ar/aceite-de-girasol-alsamar-x-900-ml/p>\n",
            "{'fecha': '10-04-2025', 'hora': '20:12', 'Nombre Producto': None, 'Precio': 'No disponible', 'URL': 'https://www.hiperlibertad.com.ar/aceite-de-girasol-alsamar-x-900-ml/p'}\n",
            "2025-04-10 23:12:35 [scrapy.core.engine] DEBUG: Crawled (200) <GET https://www.hiperlibertad.com.ar/cafe-molido-bonafide-sensaciones-torrado-intenso-500-gr/p> (referer: None)\n",
            "2025-04-10 23:12:35 [scrapy.core.scraper] DEBUG: Scraped from <200 https://www.hiperlibertad.com.ar/brahma-chopp-can-4x6-473cc/p>\n",
            "{'fecha': '10-04-2025', 'hora': '20:12', 'Nombre Producto': None, 'Precio': 'No disponible', 'URL': 'https://www.hiperlibertad.com.ar/brahma-chopp-can-4x6-473cc/p'}\n",
            "2025-04-10 23:12:35 [scrapy.core.scraper] DEBUG: Scraped from <200 https://www.hiperlibertad.com.ar/sal-fina-dos-anclas-250-gr/p>\n",
            "{'fecha': '10-04-2025', 'hora': '20:12', 'Nombre Producto': None, 'Precio': 'No disponible', 'URL': 'https://www.hiperlibertad.com.ar/sal-fina-dos-anclas-250-gr/p'}\n",
            "2025-04-10 23:12:36 [scrapy.core.scraper] DEBUG: Scraped from <200 https://www.hiperlibertad.com.ar/mayonesa-hellmanns-clasica-x-475-gr/p>\n",
            "{'fecha': '10-04-2025', 'hora': '20:12', 'Nombre Producto': None, 'Precio': 'No disponible', 'URL': 'https://www.hiperlibertad.com.ar/mayonesa-hellmanns-clasica-x-475-gr/p'}\n",
            "2025-04-10 23:12:36 [scrapy.core.scraper] DEBUG: Scraped from <200 https://www.hiperlibertad.com.ar/cafe-molido-bonafide-sensaciones-torrado-intenso-500-gr/p>\n",
            "{'fecha': '10-04-2025', 'hora': '20:12', 'Nombre Producto': None, 'Precio': 'No disponible', 'URL': 'https://www.hiperlibertad.com.ar/cafe-molido-bonafide-sensaciones-torrado-intenso-500-gr/p'}\n",
            "2025-04-10 23:12:36 [scrapy.core.engine] DEBUG: Crawled (404) <GET https://www.hiperlibertad.com.ar/yerba-playadito-suave-bcp-1kg/p> (referer: None)\n",
            "2025-04-10 23:12:36 [scrapy.spidermiddlewares.httperror] INFO: Ignoring response <404 https://www.hiperlibertad.com.ar/yerba-playadito-suave-bcp-1kg/p>: HTTP status code is not handled or not allowed\n",
            "2025-04-10 23:12:36 [scrapy.core.engine] INFO: Closing spider (finished)\n",
            "2025-04-10 23:12:36 [scrapy.extensions.feedexport] INFO: Stored csv feed (30 items) in: relevamiento_precios_hiper_libertad.csv\n",
            "2025-04-10 23:12:36 [scrapy.statscollectors] INFO: Dumping Scrapy stats:\n",
            "{'downloader/request_bytes': 8983,\n",
            " 'downloader/request_count': 32,\n",
            " 'downloader/request_method_count/GET': 32,\n",
            " 'downloader/response_bytes': 4636629,\n",
            " 'downloader/response_count': 32,\n",
            " 'downloader/response_status_count/200': 30,\n",
            " 'downloader/response_status_count/404': 2,\n",
            " 'elapsed_time_seconds': 3.053992,\n",
            " 'feedexport/success_count/FileFeedStorage': 1,\n",
            " 'finish_reason': 'finished',\n",
            " 'finish_time': datetime.datetime(2025, 4, 10, 23, 12, 36, 304270, tzinfo=datetime.timezone.utc),\n",
            " 'httpcompression/response_bytes': 30080285,\n",
            " 'httpcompression/response_count': 32,\n",
            " 'httperror/response_ignored_count': 2,\n",
            " 'httperror/response_ignored_status_count/404': 2,\n",
            " 'item_scraped_count': 30,\n",
            " 'items_per_minute': None,\n",
            " 'log_count/DEBUG': 63,\n",
            " 'log_count/INFO': 13,\n",
            " 'memusage/max': 350543872,\n",
            " 'memusage/startup': 350543872,\n",
            " 'response_received_count': 32,\n",
            " 'responses_per_minute': None,\n",
            " 'scheduler/dequeued': 32,\n",
            " 'scheduler/dequeued/memory': 32,\n",
            " 'scheduler/enqueued': 32,\n",
            " 'scheduler/enqueued/memory': 32,\n",
            " 'start_time': datetime.datetime(2025, 4, 10, 23, 12, 33, 250278, tzinfo=datetime.timezone.utc)}\n",
            "2025-04-10 23:12:36 [scrapy.core.engine] INFO: Spider closed (finished)\n"
          ]
        }
      ]
    },
    {
      "cell_type": "markdown",
      "source": [
        "## 04 - Descargar el archivo a la PC:"
      ],
      "metadata": {
        "id": "RMws876b8akH"
      }
    },
    {
      "cell_type": "code",
      "source": [
        "files.download('relevamiento_precios_hiper_libertad.csv')\n"
      ],
      "metadata": {
        "colab": {
          "base_uri": "https://localhost:8080/",
          "height": 17
        },
        "id": "PV_M8AHeh9lL",
        "outputId": "6f433dc6-3c5d-49e8-99ae-b94858abd936"
      },
      "execution_count": 63,
      "outputs": [
        {
          "output_type": "display_data",
          "data": {
            "text/plain": [
              "<IPython.core.display.Javascript object>"
            ],
            "application/javascript": [
              "\n",
              "    async function download(id, filename, size) {\n",
              "      if (!google.colab.kernel.accessAllowed) {\n",
              "        return;\n",
              "      }\n",
              "      const div = document.createElement('div');\n",
              "      const label = document.createElement('label');\n",
              "      label.textContent = `Downloading \"${filename}\": `;\n",
              "      div.appendChild(label);\n",
              "      const progress = document.createElement('progress');\n",
              "      progress.max = size;\n",
              "      div.appendChild(progress);\n",
              "      document.body.appendChild(div);\n",
              "\n",
              "      const buffers = [];\n",
              "      let downloaded = 0;\n",
              "\n",
              "      const channel = await google.colab.kernel.comms.open(id);\n",
              "      // Send a message to notify the kernel that we're ready.\n",
              "      channel.send({})\n",
              "\n",
              "      for await (const message of channel.messages) {\n",
              "        // Send a message to notify the kernel that we're ready.\n",
              "        channel.send({})\n",
              "        if (message.buffers) {\n",
              "          for (const buffer of message.buffers) {\n",
              "            buffers.push(buffer);\n",
              "            downloaded += buffer.byteLength;\n",
              "            progress.value = downloaded;\n",
              "          }\n",
              "        }\n",
              "      }\n",
              "      const blob = new Blob(buffers, {type: 'application/binary'});\n",
              "      const a = document.createElement('a');\n",
              "      a.href = window.URL.createObjectURL(blob);\n",
              "      a.download = filename;\n",
              "      div.appendChild(a);\n",
              "      a.click();\n",
              "      div.remove();\n",
              "    }\n",
              "  "
            ]
          },
          "metadata": {}
        },
        {
          "output_type": "display_data",
          "data": {
            "text/plain": [
              "<IPython.core.display.Javascript object>"
            ],
            "application/javascript": [
              "download(\"download_080946af-8315-4256-8570-f013adbf7ad5\", \"relevamiento_precios_hiper_libertad.csv\", 3465)"
            ]
          },
          "metadata": {}
        }
      ]
    }
  ]
}